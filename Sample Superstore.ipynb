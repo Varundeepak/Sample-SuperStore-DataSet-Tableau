{
 "cells": [
  {
   "cell_type": "markdown",
   "id": "effc8d52",
   "metadata": {},
   "source": [
    "Step 1: Import required libraries"
   ]
  },
  {
   "cell_type": "code",
   "execution_count": 1,
   "id": "3b7abed6",
   "metadata": {},
   "outputs": [],
   "source": [
    "import pandas as pd"
   ]
  },
  {
   "cell_type": "markdown",
   "id": "7448dd6a",
   "metadata": {},
   "source": [
    "Step 2: Load the dataset"
   ]
  },
  {
   "cell_type": "code",
   "execution_count": 2,
   "id": "31ec4df6",
   "metadata": {},
   "outputs": [],
   "source": [
    "df = pd.read_csv('archive/SampleSuperstore.csv')"
   ]
  },
  {
   "cell_type": "markdown",
   "id": "b73f230a",
   "metadata": {},
   "source": [
    "Step 3: View the shape of the data"
   ]
  },
  {
   "cell_type": "code",
   "execution_count": 3,
   "id": "8a55aa95",
   "metadata": {},
   "outputs": [
    {
     "name": "stdout",
     "output_type": "stream",
     "text": [
      "Shape of dataset: (9994, 13)\n"
     ]
    }
   ],
   "source": [
    "print(\"Shape of dataset:\", df.shape)"
   ]
  },
  {
   "cell_type": "markdown",
   "id": "94da4815",
   "metadata": {},
   "source": [
    "Step 4: View the column names"
   ]
  },
  {
   "cell_type": "code",
   "execution_count": 4,
   "id": "9928b6c2",
   "metadata": {},
   "outputs": [
    {
     "name": "stdout",
     "output_type": "stream",
     "text": [
      "Columns:\n",
      " ['Ship Mode', 'Segment', 'Country', 'City', 'State', 'Postal Code', 'Region', 'Category', 'Sub-Category', 'Sales', 'Quantity', 'Discount', 'Profit']\n"
     ]
    }
   ],
   "source": [
    "print(\"Columns:\\n\", df.columns.tolist())"
   ]
  },
  {
   "cell_type": "markdown",
   "id": "bbce8957",
   "metadata": {},
   "source": [
    "Step 5: Preview the first 5 rows"
   ]
  },
  {
   "cell_type": "code",
   "execution_count": 5,
   "id": "563c0da1",
   "metadata": {},
   "outputs": [
    {
     "data": {
      "text/html": [
       "<div>\n",
       "<style scoped>\n",
       "    .dataframe tbody tr th:only-of-type {\n",
       "        vertical-align: middle;\n",
       "    }\n",
       "\n",
       "    .dataframe tbody tr th {\n",
       "        vertical-align: top;\n",
       "    }\n",
       "\n",
       "    .dataframe thead th {\n",
       "        text-align: right;\n",
       "    }\n",
       "</style>\n",
       "<table border=\"1\" class=\"dataframe\">\n",
       "  <thead>\n",
       "    <tr style=\"text-align: right;\">\n",
       "      <th></th>\n",
       "      <th>Ship Mode</th>\n",
       "      <th>Segment</th>\n",
       "      <th>Country</th>\n",
       "      <th>City</th>\n",
       "      <th>State</th>\n",
       "      <th>Postal Code</th>\n",
       "      <th>Region</th>\n",
       "      <th>Category</th>\n",
       "      <th>Sub-Category</th>\n",
       "      <th>Sales</th>\n",
       "      <th>Quantity</th>\n",
       "      <th>Discount</th>\n",
       "      <th>Profit</th>\n",
       "    </tr>\n",
       "  </thead>\n",
       "  <tbody>\n",
       "    <tr>\n",
       "      <th>0</th>\n",
       "      <td>Second Class</td>\n",
       "      <td>Consumer</td>\n",
       "      <td>United States</td>\n",
       "      <td>Henderson</td>\n",
       "      <td>Kentucky</td>\n",
       "      <td>42420</td>\n",
       "      <td>South</td>\n",
       "      <td>Furniture</td>\n",
       "      <td>Bookcases</td>\n",
       "      <td>261.9600</td>\n",
       "      <td>2</td>\n",
       "      <td>0.00</td>\n",
       "      <td>41.9136</td>\n",
       "    </tr>\n",
       "    <tr>\n",
       "      <th>1</th>\n",
       "      <td>Second Class</td>\n",
       "      <td>Consumer</td>\n",
       "      <td>United States</td>\n",
       "      <td>Henderson</td>\n",
       "      <td>Kentucky</td>\n",
       "      <td>42420</td>\n",
       "      <td>South</td>\n",
       "      <td>Furniture</td>\n",
       "      <td>Chairs</td>\n",
       "      <td>731.9400</td>\n",
       "      <td>3</td>\n",
       "      <td>0.00</td>\n",
       "      <td>219.5820</td>\n",
       "    </tr>\n",
       "    <tr>\n",
       "      <th>2</th>\n",
       "      <td>Second Class</td>\n",
       "      <td>Corporate</td>\n",
       "      <td>United States</td>\n",
       "      <td>Los Angeles</td>\n",
       "      <td>California</td>\n",
       "      <td>90036</td>\n",
       "      <td>West</td>\n",
       "      <td>Office Supplies</td>\n",
       "      <td>Labels</td>\n",
       "      <td>14.6200</td>\n",
       "      <td>2</td>\n",
       "      <td>0.00</td>\n",
       "      <td>6.8714</td>\n",
       "    </tr>\n",
       "    <tr>\n",
       "      <th>3</th>\n",
       "      <td>Standard Class</td>\n",
       "      <td>Consumer</td>\n",
       "      <td>United States</td>\n",
       "      <td>Fort Lauderdale</td>\n",
       "      <td>Florida</td>\n",
       "      <td>33311</td>\n",
       "      <td>South</td>\n",
       "      <td>Furniture</td>\n",
       "      <td>Tables</td>\n",
       "      <td>957.5775</td>\n",
       "      <td>5</td>\n",
       "      <td>0.45</td>\n",
       "      <td>-383.0310</td>\n",
       "    </tr>\n",
       "    <tr>\n",
       "      <th>4</th>\n",
       "      <td>Standard Class</td>\n",
       "      <td>Consumer</td>\n",
       "      <td>United States</td>\n",
       "      <td>Fort Lauderdale</td>\n",
       "      <td>Florida</td>\n",
       "      <td>33311</td>\n",
       "      <td>South</td>\n",
       "      <td>Office Supplies</td>\n",
       "      <td>Storage</td>\n",
       "      <td>22.3680</td>\n",
       "      <td>2</td>\n",
       "      <td>0.20</td>\n",
       "      <td>2.5164</td>\n",
       "    </tr>\n",
       "  </tbody>\n",
       "</table>\n",
       "</div>"
      ],
      "text/plain": [
       "        Ship Mode    Segment        Country             City       State  \\\n",
       "0    Second Class   Consumer  United States        Henderson    Kentucky   \n",
       "1    Second Class   Consumer  United States        Henderson    Kentucky   \n",
       "2    Second Class  Corporate  United States      Los Angeles  California   \n",
       "3  Standard Class   Consumer  United States  Fort Lauderdale     Florida   \n",
       "4  Standard Class   Consumer  United States  Fort Lauderdale     Florida   \n",
       "\n",
       "   Postal Code Region         Category Sub-Category     Sales  Quantity  \\\n",
       "0        42420  South        Furniture    Bookcases  261.9600         2   \n",
       "1        42420  South        Furniture       Chairs  731.9400         3   \n",
       "2        90036   West  Office Supplies       Labels   14.6200         2   \n",
       "3        33311  South        Furniture       Tables  957.5775         5   \n",
       "4        33311  South  Office Supplies      Storage   22.3680         2   \n",
       "\n",
       "   Discount    Profit  \n",
       "0      0.00   41.9136  \n",
       "1      0.00  219.5820  \n",
       "2      0.00    6.8714  \n",
       "3      0.45 -383.0310  \n",
       "4      0.20    2.5164  "
      ]
     },
     "execution_count": 5,
     "metadata": {},
     "output_type": "execute_result"
    }
   ],
   "source": [
    "df.head()"
   ]
  },
  {
   "cell_type": "markdown",
   "id": "5ec897ef",
   "metadata": {},
   "source": [
    "Step 6: Check structure of data"
   ]
  },
  {
   "cell_type": "code",
   "execution_count": 6,
   "id": "1aa950d8",
   "metadata": {},
   "outputs": [
    {
     "name": "stdout",
     "output_type": "stream",
     "text": [
      "<class 'pandas.core.frame.DataFrame'>\n",
      "RangeIndex: 9994 entries, 0 to 9993\n",
      "Data columns (total 13 columns):\n",
      " #   Column        Non-Null Count  Dtype  \n",
      "---  ------        --------------  -----  \n",
      " 0   Ship Mode     9994 non-null   object \n",
      " 1   Segment       9994 non-null   object \n",
      " 2   Country       9994 non-null   object \n",
      " 3   City          9994 non-null   object \n",
      " 4   State         9994 non-null   object \n",
      " 5   Postal Code   9994 non-null   int64  \n",
      " 6   Region        9994 non-null   object \n",
      " 7   Category      9994 non-null   object \n",
      " 8   Sub-Category  9994 non-null   object \n",
      " 9   Sales         9994 non-null   float64\n",
      " 10  Quantity      9994 non-null   int64  \n",
      " 11  Discount      9994 non-null   float64\n",
      " 12  Profit        9994 non-null   float64\n",
      "dtypes: float64(3), int64(2), object(8)\n",
      "memory usage: 1015.1+ KB\n"
     ]
    }
   ],
   "source": [
    "df.info()"
   ]
  },
  {
   "cell_type": "markdown",
   "id": "bfa986a0",
   "metadata": {},
   "source": [
    "Step 7: Summary statistics for numeric columns"
   ]
  },
  {
   "cell_type": "code",
   "execution_count": 7,
   "id": "a658ddce",
   "metadata": {},
   "outputs": [
    {
     "data": {
      "text/html": [
       "<div>\n",
       "<style scoped>\n",
       "    .dataframe tbody tr th:only-of-type {\n",
       "        vertical-align: middle;\n",
       "    }\n",
       "\n",
       "    .dataframe tbody tr th {\n",
       "        vertical-align: top;\n",
       "    }\n",
       "\n",
       "    .dataframe thead th {\n",
       "        text-align: right;\n",
       "    }\n",
       "</style>\n",
       "<table border=\"1\" class=\"dataframe\">\n",
       "  <thead>\n",
       "    <tr style=\"text-align: right;\">\n",
       "      <th></th>\n",
       "      <th>Postal Code</th>\n",
       "      <th>Sales</th>\n",
       "      <th>Quantity</th>\n",
       "      <th>Discount</th>\n",
       "      <th>Profit</th>\n",
       "    </tr>\n",
       "  </thead>\n",
       "  <tbody>\n",
       "    <tr>\n",
       "      <th>count</th>\n",
       "      <td>9994.000000</td>\n",
       "      <td>9994.000000</td>\n",
       "      <td>9994.000000</td>\n",
       "      <td>9994.000000</td>\n",
       "      <td>9994.000000</td>\n",
       "    </tr>\n",
       "    <tr>\n",
       "      <th>mean</th>\n",
       "      <td>55190.379428</td>\n",
       "      <td>229.858001</td>\n",
       "      <td>3.789574</td>\n",
       "      <td>0.156203</td>\n",
       "      <td>28.656896</td>\n",
       "    </tr>\n",
       "    <tr>\n",
       "      <th>std</th>\n",
       "      <td>32063.693350</td>\n",
       "      <td>623.245101</td>\n",
       "      <td>2.225110</td>\n",
       "      <td>0.206452</td>\n",
       "      <td>234.260108</td>\n",
       "    </tr>\n",
       "    <tr>\n",
       "      <th>min</th>\n",
       "      <td>1040.000000</td>\n",
       "      <td>0.444000</td>\n",
       "      <td>1.000000</td>\n",
       "      <td>0.000000</td>\n",
       "      <td>-6599.978000</td>\n",
       "    </tr>\n",
       "    <tr>\n",
       "      <th>25%</th>\n",
       "      <td>23223.000000</td>\n",
       "      <td>17.280000</td>\n",
       "      <td>2.000000</td>\n",
       "      <td>0.000000</td>\n",
       "      <td>1.728750</td>\n",
       "    </tr>\n",
       "    <tr>\n",
       "      <th>50%</th>\n",
       "      <td>56430.500000</td>\n",
       "      <td>54.490000</td>\n",
       "      <td>3.000000</td>\n",
       "      <td>0.200000</td>\n",
       "      <td>8.666500</td>\n",
       "    </tr>\n",
       "    <tr>\n",
       "      <th>75%</th>\n",
       "      <td>90008.000000</td>\n",
       "      <td>209.940000</td>\n",
       "      <td>5.000000</td>\n",
       "      <td>0.200000</td>\n",
       "      <td>29.364000</td>\n",
       "    </tr>\n",
       "    <tr>\n",
       "      <th>max</th>\n",
       "      <td>99301.000000</td>\n",
       "      <td>22638.480000</td>\n",
       "      <td>14.000000</td>\n",
       "      <td>0.800000</td>\n",
       "      <td>8399.976000</td>\n",
       "    </tr>\n",
       "  </tbody>\n",
       "</table>\n",
       "</div>"
      ],
      "text/plain": [
       "        Postal Code         Sales     Quantity     Discount       Profit\n",
       "count   9994.000000   9994.000000  9994.000000  9994.000000  9994.000000\n",
       "mean   55190.379428    229.858001     3.789574     0.156203    28.656896\n",
       "std    32063.693350    623.245101     2.225110     0.206452   234.260108\n",
       "min     1040.000000      0.444000     1.000000     0.000000 -6599.978000\n",
       "25%    23223.000000     17.280000     2.000000     0.000000     1.728750\n",
       "50%    56430.500000     54.490000     3.000000     0.200000     8.666500\n",
       "75%    90008.000000    209.940000     5.000000     0.200000    29.364000\n",
       "max    99301.000000  22638.480000    14.000000     0.800000  8399.976000"
      ]
     },
     "execution_count": 7,
     "metadata": {},
     "output_type": "execute_result"
    }
   ],
   "source": [
    "df.describe()"
   ]
  },
  {
   "cell_type": "markdown",
   "id": "859e732e",
   "metadata": {},
   "source": [
    "We'll check unique values in some important columns"
   ]
  },
  {
   "cell_type": "code",
   "execution_count": 8,
   "id": "af205242",
   "metadata": {},
   "outputs": [
    {
     "name": "stdout",
     "output_type": "stream",
     "text": [
      "Consumer       5191\n",
      "Corporate      3020\n",
      "Home Office    1783\n",
      "Name: Segment, dtype: int64\n",
      "Office Supplies    6026\n",
      "Furniture          2121\n",
      "Technology         1847\n",
      "Name: Category, dtype: int64\n",
      "West       3203\n",
      "East       2848\n",
      "Central    2323\n",
      "South      1620\n",
      "Name: Region, dtype: int64\n",
      "49 Unique states\n"
     ]
    }
   ],
   "source": [
    "print(df['Segment'].value_counts())\n",
    "print(df['Category'].value_counts())\n",
    "print(df['Region'].value_counts())\n",
    "print(df['State'].nunique(), \"Unique states\")"
   ]
  },
  {
   "cell_type": "markdown",
   "id": "8fc58301",
   "metadata": {},
   "source": [
    "Now let's view Total Sales and Profit"
   ]
  },
  {
   "cell_type": "code",
   "execution_count": 9,
   "id": "2144d208",
   "metadata": {},
   "outputs": [
    {
     "name": "stdout",
     "output_type": "stream",
     "text": [
      "Total Sales: $2,297,200.86\n",
      "Total Profit: $286,397.02\n"
     ]
    }
   ],
   "source": [
    "total_sales = df['Sales'].sum()\n",
    "total_profit = df['Profit'].sum()\n",
    "print(f\"Total Sales: ${total_sales:,.2f}\")\n",
    "print(f\"Total Profit: ${total_profit:,.2f}\")"
   ]
  },
  {
   "cell_type": "markdown",
   "id": "3c19651c",
   "metadata": {},
   "source": [
    "We'll look at top and bottom 10 performing states by Profit"
   ]
  },
  {
   "cell_type": "code",
   "execution_count": 10,
   "id": "6b6ce2a0",
   "metadata": {},
   "outputs": [
    {
     "name": "stdout",
     "output_type": "stream",
     "text": [
      "Top States State\n",
      "California    76381.3871\n",
      "New York      74038.5486\n",
      "Washington    33402.6517\n",
      "Michigan      24463.1876\n",
      "Virginia      18597.9504\n",
      "Indiana       18382.9363\n",
      "Georgia       16250.0433\n",
      "Kentucky      11199.6966\n",
      "Minnesota     10823.1874\n",
      "Delaware       9977.3748\n",
      "Name: Profit, dtype: float64\n",
      "Bottom States State\n",
      "Texas            -25729.3563\n",
      "Ohio             -16971.3766\n",
      "Pennsylvania     -15559.9603\n",
      "Illinois         -12607.8870\n",
      "North Carolina    -7490.9122\n",
      "Colorado          -6527.8579\n",
      "Tennessee         -5341.6936\n",
      "Arizona           -3427.9246\n",
      "Florida           -3399.3017\n",
      "Oregon            -1190.4705\n",
      "Name: Profit, dtype: float64\n"
     ]
    }
   ],
   "source": [
    "top_states = df.groupby(\"State\")[\"Profit\"].sum().sort_values(ascending=False).head(10)\n",
    "bottom_states = df.groupby(\"State\")[\"Profit\"].sum().sort_values().head(10)\n",
    "\n",
    "print(\"Top States\", top_states)\n",
    "print(\"Bottom States\", bottom_states)"
   ]
  },
  {
   "cell_type": "markdown",
   "id": "b84f9ecb",
   "metadata": {},
   "source": [
    "Similarly lets look at top performing Sub Categories"
   ]
  },
  {
   "cell_type": "code",
   "execution_count": 11,
   "id": "a3382c50",
   "metadata": {},
   "outputs": [
    {
     "name": "stdout",
     "output_type": "stream",
     "text": [
      "Top Sub Categories Sub-Category\n",
      "Phones         330007.0540\n",
      "Chairs         328449.1030\n",
      "Storage        223843.6080\n",
      "Tables         206965.5320\n",
      "Binders        203412.7330\n",
      "Machines       189238.6310\n",
      "Accessories    167380.3180\n",
      "Copiers        149528.0300\n",
      "Bookcases      114879.9963\n",
      "Appliances     107532.1610\n",
      "Name: Sales, dtype: float64\n"
     ]
    }
   ],
   "source": [
    "top_subcats = df.groupby(\"Sub-Category\")[\"Sales\"].sum().sort_values(ascending=False).head(10)\n",
    "print(\"Top Sub Categories\", top_subcats)"
   ]
  },
  {
   "cell_type": "markdown",
   "id": "8476986f",
   "metadata": {},
   "source": [
    "Let's see which sub categories have high discount but still give low profit (or loss) "
   ]
  },
  {
   "cell_type": "code",
   "execution_count": 12,
   "id": "7618fd48",
   "metadata": {},
   "outputs": [
    {
     "data": {
      "text/html": [
       "<div>\n",
       "<style scoped>\n",
       "    .dataframe tbody tr th:only-of-type {\n",
       "        vertical-align: middle;\n",
       "    }\n",
       "\n",
       "    .dataframe tbody tr th {\n",
       "        vertical-align: top;\n",
       "    }\n",
       "\n",
       "    .dataframe thead th {\n",
       "        text-align: right;\n",
       "    }\n",
       "</style>\n",
       "<table border=\"1\" class=\"dataframe\">\n",
       "  <thead>\n",
       "    <tr style=\"text-align: right;\">\n",
       "      <th></th>\n",
       "      <th>Sales</th>\n",
       "      <th>Profit</th>\n",
       "      <th>Discount</th>\n",
       "    </tr>\n",
       "    <tr>\n",
       "      <th>Sub-Category</th>\n",
       "      <th></th>\n",
       "      <th></th>\n",
       "      <th></th>\n",
       "    </tr>\n",
       "  </thead>\n",
       "  <tbody>\n",
       "    <tr>\n",
       "      <th>Machines</th>\n",
       "      <td>1646.733023</td>\n",
       "      <td>-684.515186</td>\n",
       "      <td>0.581818</td>\n",
       "    </tr>\n",
       "    <tr>\n",
       "      <th>Tables</th>\n",
       "      <td>517.135695</td>\n",
       "      <td>-159.665755</td>\n",
       "      <td>0.365271</td>\n",
       "    </tr>\n",
       "    <tr>\n",
       "      <th>Appliances</th>\n",
       "      <td>50.485582</td>\n",
       "      <td>-128.800615</td>\n",
       "      <td>0.800000</td>\n",
       "    </tr>\n",
       "    <tr>\n",
       "      <th>Bookcases</th>\n",
       "      <td>441.034319</td>\n",
       "      <td>-111.488128</td>\n",
       "      <td>0.348532</td>\n",
       "    </tr>\n",
       "    <tr>\n",
       "      <th>Supplies</th>\n",
       "      <td>426.278061</td>\n",
       "      <td>-91.382482</td>\n",
       "      <td>0.200000</td>\n",
       "    </tr>\n",
       "    <tr>\n",
       "      <th>Binders</th>\n",
       "      <td>58.956954</td>\n",
       "      <td>-62.822996</td>\n",
       "      <td>0.738010</td>\n",
       "    </tr>\n",
       "    <tr>\n",
       "      <th>Phones</th>\n",
       "      <td>263.219412</td>\n",
       "      <td>-55.372232</td>\n",
       "      <td>0.342647</td>\n",
       "    </tr>\n",
       "    <tr>\n",
       "      <th>Chairs</th>\n",
       "      <td>391.440238</td>\n",
       "      <td>-42.046133</td>\n",
       "      <td>0.261277</td>\n",
       "    </tr>\n",
       "    <tr>\n",
       "      <th>Storage</th>\n",
       "      <td>235.211627</td>\n",
       "      <td>-39.914930</td>\n",
       "      <td>0.200000</td>\n",
       "    </tr>\n",
       "    <tr>\n",
       "      <th>Furnishings</th>\n",
       "      <td>76.921222</td>\n",
       "      <td>-38.867745</td>\n",
       "      <td>0.530539</td>\n",
       "    </tr>\n",
       "    <tr>\n",
       "      <th>Accessories</th>\n",
       "      <td>120.426374</td>\n",
       "      <td>-10.226665</td>\n",
       "      <td>0.200000</td>\n",
       "    </tr>\n",
       "    <tr>\n",
       "      <th>Fasteners</th>\n",
       "      <td>12.440000</td>\n",
       "      <td>-2.766267</td>\n",
       "      <td>0.200000</td>\n",
       "    </tr>\n",
       "  </tbody>\n",
       "</table>\n",
       "</div>"
      ],
      "text/plain": [
       "                    Sales      Profit  Discount\n",
       "Sub-Category                                   \n",
       "Machines      1646.733023 -684.515186  0.581818\n",
       "Tables         517.135695 -159.665755  0.365271\n",
       "Appliances      50.485582 -128.800615  0.800000\n",
       "Bookcases      441.034319 -111.488128  0.348532\n",
       "Supplies       426.278061  -91.382482  0.200000\n",
       "Binders         58.956954  -62.822996  0.738010\n",
       "Phones         263.219412  -55.372232  0.342647\n",
       "Chairs         391.440238  -42.046133  0.261277\n",
       "Storage        235.211627  -39.914930  0.200000\n",
       "Furnishings     76.921222  -38.867745  0.530539\n",
       "Accessories    120.426374  -10.226665  0.200000\n",
       "Fasteners       12.440000   -2.766267  0.200000"
      ]
     },
     "execution_count": 12,
     "metadata": {},
     "output_type": "execute_result"
    }
   ],
   "source": [
    "loss_df = df[df['Profit'] < 0]\n",
    "\n",
    "grouped = loss_df.groupby('Sub-Category')\n",
    "\n",
    "avg_metrics = grouped[['Sales', 'Profit', 'Discount']].mean()\n",
    "\n",
    "avg_metrics_sorted = avg_metrics.sort_values('Profit')\n",
    "\n",
    "avg_metrics_sorted"
   ]
  },
  {
   "cell_type": "markdown",
   "id": "113e36b3",
   "metadata": {},
   "source": [
    "Now, let's see if there is any correlation between discount and profit"
   ]
  },
  {
   "cell_type": "code",
   "execution_count": 13,
   "id": "970dda6e",
   "metadata": {},
   "outputs": [
    {
     "data": {
      "text/html": [
       "<div>\n",
       "<style scoped>\n",
       "    .dataframe tbody tr th:only-of-type {\n",
       "        vertical-align: middle;\n",
       "    }\n",
       "\n",
       "    .dataframe tbody tr th {\n",
       "        vertical-align: top;\n",
       "    }\n",
       "\n",
       "    .dataframe thead th {\n",
       "        text-align: right;\n",
       "    }\n",
       "</style>\n",
       "<table border=\"1\" class=\"dataframe\">\n",
       "  <thead>\n",
       "    <tr style=\"text-align: right;\">\n",
       "      <th></th>\n",
       "      <th>Discount</th>\n",
       "      <th>Profit</th>\n",
       "    </tr>\n",
       "  </thead>\n",
       "  <tbody>\n",
       "    <tr>\n",
       "      <th>Discount</th>\n",
       "      <td>1.000000</td>\n",
       "      <td>-0.219487</td>\n",
       "    </tr>\n",
       "    <tr>\n",
       "      <th>Profit</th>\n",
       "      <td>-0.219487</td>\n",
       "      <td>1.000000</td>\n",
       "    </tr>\n",
       "  </tbody>\n",
       "</table>\n",
       "</div>"
      ],
      "text/plain": [
       "          Discount    Profit\n",
       "Discount  1.000000 -0.219487\n",
       "Profit   -0.219487  1.000000"
      ]
     },
     "execution_count": 13,
     "metadata": {},
     "output_type": "execute_result"
    }
   ],
   "source": [
    "df[['Discount', 'Profit']].corr()"
   ]
  },
  {
   "cell_type": "code",
   "execution_count": null,
   "id": "20e13fd7",
   "metadata": {},
   "outputs": [],
   "source": []
  }
 ],
 "metadata": {
  "kernelspec": {
   "display_name": "Python 3 (ipykernel)",
   "language": "python",
   "name": "python3"
  },
  "language_info": {
   "codemirror_mode": {
    "name": "ipython",
    "version": 3
   },
   "file_extension": ".py",
   "mimetype": "text/x-python",
   "name": "python",
   "nbconvert_exporter": "python",
   "pygments_lexer": "ipython3",
   "version": "3.9.13"
  }
 },
 "nbformat": 4,
 "nbformat_minor": 5
}
